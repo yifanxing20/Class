{
 "cells": [
  {
   "cell_type": "code",
   "execution_count": 3,
   "metadata": {},
   "outputs": [],
   "source": [
    "class VigenereCipher:\n",
    "    \n",
    "    def __init__(self, key):\n",
    "        self.key = VigenereCipher._convert_to_numbers(key)\n",
    "    \n",
    "    def encrypt(self, message):\n",
    "        message_as_numbers = VigenereCipher._convert_to_numbers(message)\n",
    "        cipher_as_numbers = []\n",
    "        i = 0\n",
    "        for c in message_as_numbers:\n",
    "            cipher_as_numbers.append((c + self.key[i % len(self.key)] + 1) % 26)\n",
    "            i += 1\n",
    "        return VigenereCipher._convert_to_char(cipher_as_numbers)\n",
    "    \n",
    "    def decrypt(self, cipher):\n",
    "        cipher_as_numbers = VigenereCipher._convert_to_numbers(cipher)\n",
    "        message_as_numbers = []\n",
    "        i = 0\n",
    "        for c in cipher_as_numbers:\n",
    "            message_as_numbers.append((c - self.key[i % len(self.key)] - 1) % 26)\n",
    "            i += 1\n",
    "        return VigenereCipher._convert_to_char(message_as_numbers)\n",
    "    \n",
    "    def _convert_to_numbers(text):\n",
    "        return [ord(c)-97 for c in text.lower()]\n",
    "    \n",
    "    def _convert_to_char(numbers):\n",
    "        return ''.join(chr(i+97) for i in numbers)\n",
    "    "
   ]
  },
  {
   "cell_type": "code",
   "execution_count": 4,
   "metadata": {},
   "outputs": [
    {
     "name": "stdout",
     "output_type": "stream",
     "text": [
      "bddffhhjjllnnpprrttvvxxzzb\n",
      "abcdefghijklmnopqrstuvwxyz\n"
     ]
    }
   ],
   "source": [
    "v = VigenereCipher(\"ab\")\n",
    "e = v.encrypt(\"ABCDEFGHIJKLMNOPQRSTUVWXYZ\")\n",
    "print(e)\n",
    "m = v.decrypt(e)\n",
    "print(m)"
   ]
  },
  {
   "cell_type": "code",
   "execution_count": null,
   "metadata": {},
   "outputs": [],
   "source": []
  }
 ],
 "metadata": {
  "kernelspec": {
   "display_name": "Python 3",
   "language": "python",
   "name": "python3"
  },
  "language_info": {
   "codemirror_mode": {
    "name": "ipython",
    "version": 3
   },
   "file_extension": ".py",
   "mimetype": "text/x-python",
   "name": "python",
   "nbconvert_exporter": "python",
   "pygments_lexer": "ipython3",
   "version": "3.7.9"
  }
 },
 "nbformat": 4,
 "nbformat_minor": 4
}
